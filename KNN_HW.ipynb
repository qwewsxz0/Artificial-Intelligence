{
 "cells": [
  {
   "cell_type": "code",
   "execution_count": 139,
   "metadata": {},
   "outputs": [],
   "source": [
    "import numpy as np\n",
    "import pandas as pd"
   ]
  },
  {
   "cell_type": "code",
   "execution_count": 140,
   "metadata": {},
   "outputs": [],
   "source": [
    "x = np.array([[0.8 ,6.3],[1.4,8.1],[2.1,7.4],[2.6,14.3],[6.8,12.6],[8.8,9.8],[9.2,11.6],[10.8,9.6],[11.8,9.9],[12.4,6.5],[12.8,1.1],[14,19.9],[14.2,18.5],[15.6,17.4],[15.8,12.2],[16.6,6.7],[17.4,4.5],[18.2,6.9],[19,3.4],[19.6,11.1]])\n",
    "y = np.array([13.4,8.0])\n",
    "label = [0,0,0,1,0,1,0,1,1,1,0,0,0,0,0,1,1,1,0,1]\n",
    "k= 5"
   ]
  },
  {
   "cell_type": "code",
   "execution_count": 141,
   "metadata": {},
   "outputs": [],
   "source": [
    "def KNN_HOU(x,y,label,k):\n",
    "    e_distance =np.sqrt(np.sum(np.square(x-y),axis=1))\n",
    "    dict = {\"e_distance\":e_distance,'label':label}\n",
    "    df = pd.DataFrame(dict)\n",
    "    df = df.sort_values(by='e_distance')\n",
    "    win_label = df.sort_values(by='e_distance')['label'][0:k].value_counts().sort_values(ascending=False).index[0]\n",
    "    print(k,'NN : ',' choice class ',win_label)\n",
    "    for i in np.unique(np.array(label)):\n",
    "        num = df.sort_values(by='e_distance')['label'][0:k].value_counts()[i]\n",
    "        print(\"class \",i,\"have \",num,\" numbers\")\n",
    "        "
   ]
  },
  {
   "cell_type": "code",
   "execution_count": 142,
   "metadata": {},
   "outputs": [
    {
     "name": "stdout",
     "output_type": "stream",
     "text": [
      "5 NN :   choice class  1\n",
      "class  0 have  1  numbers\n",
      "class  1 have  4  numbers\n"
     ]
    }
   ],
   "source": [
    "KNN_HOU(x,y,label,k)"
   ]
  },
  {
   "cell_type": "markdown",
   "metadata": {},
   "source": [
    "# choice +"
   ]
  },
  {
   "cell_type": "code",
   "execution_count": null,
   "metadata": {},
   "outputs": [],
   "source": []
  }
 ],
 "metadata": {
  "kernelspec": {
   "display_name": "Python 3",
   "language": "python",
   "name": "python3"
  },
  "language_info": {
   "codemirror_mode": {
    "name": "ipython",
    "version": 3
   },
   "file_extension": ".py",
   "mimetype": "text/x-python",
   "name": "python",
   "nbconvert_exporter": "python",
   "pygments_lexer": "ipython3",
   "version": "3.6.8"
  }
 },
 "nbformat": 4,
 "nbformat_minor": 2
}
